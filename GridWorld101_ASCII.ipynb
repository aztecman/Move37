{
  "nbformat": 4,
  "nbformat_minor": 0,
  "metadata": {
    "colab": {
      "name": "GridWorld101_ASCII.ipynb",
      "version": "0.3.2",
      "provenance": [],
      "collapsed_sections": [],
      "include_colab_link": true
    },
    "kernelspec": {
      "name": "python3",
      "display_name": "Python 3"
    }
  },
  "cells": [
    {
      "cell_type": "markdown",
      "metadata": {
        "id": "view-in-github",
        "colab_type": "text"
      },
      "source": [
        "[View in Colaboratory](https://colab.research.google.com/github/aztecman/Move37/blob/master/GridWorld101_ASCII.ipynb)"
      ]
    },
    {
      "metadata": {
        "id": "RRvHbLw9p-cU",
        "colab_type": "code",
        "colab": {}
      },
      "cell_type": "code",
      "source": [
        "#This code borrows liberally from Jeremi Kaczmarczyk\n",
        "#https://medium.com/harder-choices/dynamic-programming-in-python-reinforcement-learning-bb288d95288f\n",
        "\n",
        "import numpy as np\n",
        "import tensorflow as tf\n",
        "import matplotlib.pyplot as plt\n",
        "from IPython.display import clear_output\n",
        "from random import randint, random\n",
        "from time import sleep"
      ],
      "execution_count": 0,
      "outputs": []
    },
    {
      "metadata": {
        "id": "uduK3kt6qd9m",
        "colab_type": "code",
        "colab": {}
      },
      "cell_type": "code",
      "source": [
        "def print_board(agent_position):\n",
        "    fields = list(range(12))\n",
        "    board = \"-----------------\\n\"\n",
        "    for i in range(0, 12, 4):\n",
        "        line = fields[i:i+4]\n",
        "        for field in line:\n",
        "            if field == agent_position:\n",
        "                board += \"| A \"\n",
        "            elif field == fields[3]:\n",
        "                board += \"|+1 \"\n",
        "            #elif field == fields[5]:\n",
        "            #    board += \"| X \"\n",
        "            elif field == fields[7]:\n",
        "                board += \"|-1 \"\n",
        "            else:\n",
        "                board += \"|   \"\n",
        "        board += \"|\\n\"\n",
        "        board += \"-----------------\\n\"     \n",
        "    print(board)"
      ],
      "execution_count": 0,
      "outputs": []
    },
    {
      "metadata": {
        "id": "5KFeR4YDrI6m",
        "colab_type": "code",
        "colab": {
          "base_uri": "https://localhost:8080/",
          "height": 150
        },
        "outputId": "0d940302-2d87-470a-8f60-d11cfc463720"
      },
      "cell_type": "code",
      "source": [
        "print_board(8)"
      ],
      "execution_count": 17,
      "outputs": [
        {
          "output_type": "stream",
          "text": [
            "-----------------\n",
            "|   |   |   |+1 |\n",
            "-----------------\n",
            "|   |   |   |-1 |\n",
            "-----------------\n",
            "| A |   |   |   |\n",
            "-----------------\n",
            "\n"
          ],
          "name": "stdout"
        }
      ]
    },
    {
      "metadata": {
        "id": "ryihfpc4rMno",
        "colab_type": "code",
        "colab": {}
      },
      "cell_type": "code",
      "source": [
        "def create_state_to_state_prime_verbose_map():\n",
        "    state_to_state_prime = {}\n",
        "    l = range(12)\n",
        "    for i in range(12):\n",
        "        if i == 3 or i == 7:\n",
        "            state_to_state_prime[i] = {'N': 0, 'E': 0, 'S': 0, 'W': 0}\n",
        "        elif i % 4 == 0:\n",
        "            state_to_state_prime[i] = {'N': i - 4 if i - 4 in l else i, 'E': i + 1 if i + 1 in l else i, 'S': i + 4 if i + 4 in l else i, 'W': i}\n",
        "        elif i % 4 == 3:\n",
        "            state_to_state_prime[i] = {'N': i - 4 if i - 4 in l else i, 'E': i, 'S': i + 4 if i + 4 in l else i, 'W': i - 1 if i - 1 in l else i}\n",
        "        else:\n",
        "            state_to_state_prime[i] = {'N': i - 4 if i - 4 in l else i, 'E': i + 1 if i + 1 in l else i, 'S': i + 4 if i + 4 in l else i, 'W': i - 1 if i - 1 in l else i}\n",
        "\n",
        "    return state_to_state_prime\n",
        "  \n",
        "def create_random_policy():\n",
        "  return {i: {'N': 0.0, 'E': 0.0, 'S': 0.0, 'W': 0.0} if i == 3 or i == 7 else {'N': 0.25, 'E': 0.25, 'S': 0.25, 'W': 0.25} for i in range(12)} # [N, E, S, W]\n",
        "  \n",
        "def create_probability_map():\n",
        "  state_to_state_prime = create_state_to_state_prime_verbose_map()\n",
        "    \n",
        "  probability_map = {}\n",
        "    \n",
        "  for state in range(12):\n",
        "     for move in [\"N\", \"E\", \"S\", \"W\"]:\n",
        "        for prime in range(12):\n",
        "          probability_map[(prime, -1, state, move)] = 0 if prime != state_to_state_prime[state][move] else 1\n",
        "            \n",
        "  return probability_map"
      ],
      "execution_count": 0,
      "outputs": []
    },
    {
      "metadata": {
        "id": "eeuojVHYtGRR",
        "colab_type": "code",
        "colab": {}
      },
      "cell_type": "code",
      "source": [
        "def agent(policy, starting_position=None, verbose=False):\n",
        "    open_positions = [0, 1, 2, 4, 5, 6, 8, 9, 10, 11] # not 3 or 7\n",
        "    state_to_state_prime = create_state_to_state_prime_verbose_map()\n",
        "    agent_position = open_positions[randint(0, 9)] if starting_position is None else starting_position\n",
        "        \n",
        "    step_number = 1\n",
        "    action_taken = None\n",
        "    \n",
        "    if verbose:\n",
        "        print(\"Move: {} Position: {} Action: {}\".format(step_number, agent_position, action_taken))\n",
        "        print_board(agent_position)\n",
        "        print(\"\\n\")\n",
        "        sleep(2)\n",
        "    \n",
        "    while not (agent_position == 3 or agent_position == 7):\n",
        "        if verbose:\n",
        "            clear_output(wait=True)\n",
        "            print(\"Move: {} Position: {} Action: {}\".format(step_number, agent_position, action_taken))\n",
        "            print_board(agent_position)\n",
        "            print(\"\\n\")\n",
        "            sleep(1)\n",
        "        \n",
        "        current_policy = policy[agent_position]\n",
        "        next_move = random()\n",
        "        lower_bound = 0\n",
        "        for action, chance in current_policy.items():\n",
        "            if chance == 0:\n",
        "                continue\n",
        "            if lower_bound <= next_move < lower_bound + chance:\n",
        "                agent_position = state_to_state_prime[agent_position][action]\n",
        "                action_taken = action\n",
        "                break \n",
        "            lower_bound = lower_bound + chance\n",
        "                \n",
        "        step_number += 1   \n",
        "                \n",
        "    if verbose:\n",
        "        clear_output(wait=True)\n",
        "        print(\"Move: {} Position: {} Action: {}\".format(step_number, agent_position, action_taken))\n",
        "        print_board(agent_position)\n",
        "        if agent_position == 3:\n",
        "          print(\"Win!\")\n",
        "        else:\n",
        "          print(\"Lose!\")\n",
        "    \n",
        "    return step_number"
      ],
      "execution_count": 0,
      "outputs": []
    },
    {
      "metadata": {
        "id": "afDUbn3sxpuK",
        "colab_type": "code",
        "colab": {
          "base_uri": "https://localhost:8080/",
          "height": 66
        },
        "outputId": "ba73af5d-ba10-4c31-87fe-84271c7affd2"
      },
      "cell_type": "code",
      "source": [
        "data = []\n",
        "\n",
        "for i in range(1000):\n",
        "    clear_output(wait=True)\n",
        "    print(\"{}%\\n\".format((i + 1) / 10))\n",
        "    data.append(agent(create_random_policy()))\n",
        "    \n",
        "print(\"Average steps to finish: {}\".format(sum(data)/len(data)))"
      ],
      "execution_count": 33,
      "outputs": [
        {
          "output_type": "stream",
          "text": [
            "100.0%\n",
            "\n",
            "Average steps to finish: 22.205\n"
          ],
          "name": "stdout"
        }
      ]
    },
    {
      "metadata": {
        "id": "OfyfAHtnze4c",
        "colab_type": "code",
        "colab": {
          "base_uri": "https://localhost:8080/",
          "height": 200
        },
        "outputId": "c9f12fc2-9427-43a5-fdea-2fe0e9e50ef1"
      },
      "cell_type": "code",
      "source": [
        "agent(create_random_policy(), verbose=True)"
      ],
      "execution_count": 34,
      "outputs": [
        {
          "output_type": "stream",
          "text": [
            "Move: 7 Position: 7 Action: N\n",
            "-----------------\n",
            "|   |   |   |+1 |\n",
            "-----------------\n",
            "|   |   |   | A |\n",
            "-----------------\n",
            "|   |   |   |   |\n",
            "-----------------\n",
            "\n",
            "Lose!\n"
          ],
          "name": "stdout"
        },
        {
          "output_type": "execute_result",
          "data": {
            "text/plain": [
              "7"
            ]
          },
          "metadata": {
            "tags": []
          },
          "execution_count": 34
        }
      ]
    },
    {
      "metadata": {
        "id": "52fgkcph0vVJ",
        "colab_type": "code",
        "colab": {}
      },
      "cell_type": "code",
      "source": [
        "def create_greedy_policy(V_s):\n",
        "    s_to_sprime = create_state_to_state_prime_verbose_map()\n",
        "    policy = {}\n",
        "        \n",
        "    for state in range(12):\n",
        "        \n",
        "        state_values = {a: V_s[s_to_sprime[state][a]] for a in ['N', 'S', 'E', 'W']}\n",
        "        \n",
        "        if state == 3 or state == 7:\n",
        "            policy[state] = {'N': 0.0, 'E': 0.0, 'S': 0.0, 'W': 0.0}\n",
        "        else:\n",
        "            max_actions = [k for k, v in state_values.items() if v == max(state_values.values())]\n",
        "            policy[state] = {a: 1 / len(max_actions) if a in max_actions else 0.0 for a in ['N', 'S', 'E', 'W']}\n",
        "    return policy\n"
      ],
      "execution_count": 0,
      "outputs": []
    },
    {
      "metadata": {
        "id": "PlUgVoPp6D3_",
        "colab_type": "code",
        "colab": {}
      },
      "cell_type": "code",
      "source": [
        "def iterative_policy_evaluation(policy, theta=0.01, discount_rate=0.5):\n",
        "    V_s = {i: 0 for i in range(12)} # 1.\n",
        "    probablitiy_map = create_probability_map() # 2.\n",
        "    open_positions = [0, 1, 2, 4, 5, 6, 8, 9, 10, 11]\n",
        "    \n",
        "    delta = 100 # 3.\n",
        "    while not delta < theta: # 4.\n",
        "        delta = 0 # 5.\n",
        "        for state in open_positions: # 6.\n",
        "            v = V_s[state] # 7.\n",
        "            \n",
        "            total = 0 # 8.\n",
        "            for action in [\"N\", \"E\", \"S\", \"W\"]:\n",
        "                action_total = 0\n",
        "                for state_prime in range(12):\n",
        "                    action_total += probablitiy_map[(state_prime, -1, state, action)] * (-1 + discount_rate * V_s[state_prime])\n",
        "                total += policy[state][action] * action_total   \n",
        "                \n",
        "            V_s[state] = round(total, 1) # 9.\n",
        "            delta = max(delta, abs(v - V_s[state])) # 10.\n",
        "    return V_s # 11."
      ],
      "execution_count": 0,
      "outputs": []
    },
    {
      "metadata": {
        "id": "RhMEmWpK6Pqq",
        "colab_type": "code",
        "colab": {
          "base_uri": "https://localhost:8080/",
          "height": 50
        },
        "outputId": "cf4ea1e9-4373-4d58-f3ae-60e2ab83f242"
      },
      "cell_type": "code",
      "source": [
        "policy = create_random_policy()\n",
        "V_s = iterative_policy_evaluation(policy)\n",
        "policy = create_greedy_policy(V_s)\n",
        "print(V_s)\n",
        "\n",
        "V_s = iterative_policy_evaluation(policy)\n",
        "policy = create_greedy_policy(V_s)\n",
        "print(V_s)"
      ],
      "execution_count": 42,
      "outputs": [
        {
          "output_type": "stream",
          "text": [
            "{0: -1.9, 1: -1.9, 2: -1.7, 3: 0, 4: -1.9, 5: -1.9, 6: -1.7, 7: 0, 8: -1.9, 9: -1.9, 10: -1.9, 11: -1.6}\n",
            "{0: -1.9, 1: -1.5, 2: -1.0, 3: 0, 4: -1.9, 5: -1.5, 6: -1.0, 7: 0, 8: -1.9, 9: -1.8, 10: -1.5, 11: -1.0}\n"
          ],
          "name": "stdout"
        }
      ]
    },
    {
      "metadata": {
        "id": "DuzQOzIp64zG",
        "colab_type": "code",
        "colab": {
          "base_uri": "https://localhost:8080/",
          "height": 66
        },
        "outputId": "8d641838-6550-4f87-c154-a8f00607d04b"
      },
      "cell_type": "code",
      "source": [
        "data = []\n",
        "\n",
        "for i in range(1000):\n",
        "    clear_output(wait=True)\n",
        "    print(\"{}%\\n\".format((i + 1) / 10))\n",
        "    data.append(agent(policy))\n",
        "    \n",
        "print(\"Average steps to finish: {}\".format(sum(data)/len(data)))"
      ],
      "execution_count": 43,
      "outputs": [
        {
          "output_type": "stream",
          "text": [
            "100.0%\n",
            "\n",
            "Average steps to finish: 3.207\n"
          ],
          "name": "stdout"
        }
      ]
    },
    {
      "metadata": {
        "id": "ZWV11RfE7SyW",
        "colab_type": "code",
        "colab": {
          "base_uri": "https://localhost:8080/",
          "height": 200
        },
        "outputId": "dee814ea-af9c-4789-98c0-59ea1d3d3711"
      },
      "cell_type": "code",
      "source": [
        "agent(policy, verbose=True)"
      ],
      "execution_count": 40,
      "outputs": [
        {
          "output_type": "stream",
          "text": [
            "Move: 3 Position: 7 Action: N\n",
            "-----------------\n",
            "|   |   |   |+1 |\n",
            "-----------------\n",
            "|   |   |   | A |\n",
            "-----------------\n",
            "|   |   |   |   |\n",
            "-----------------\n",
            "\n",
            "Lose!\n"
          ],
          "name": "stdout"
        },
        {
          "output_type": "execute_result",
          "data": {
            "text/plain": [
              "3"
            ]
          },
          "metadata": {
            "tags": []
          },
          "execution_count": 40
        }
      ]
    },
    {
      "metadata": {
        "id": "gFak1PmS7amv",
        "colab_type": "code",
        "colab": {}
      },
      "cell_type": "code",
      "source": [
        "def value_iteration(V_s, theta=0.01, discount_rate=0.5):\n",
        "    probablitiy_map = create_probability_map()\n",
        "    open_positions = [0, 1, 2, 4, 5, 6, 8, 9, 10, 11]\n",
        "    delta = 100\n",
        "    while not delta < theta:\n",
        "        delta = 0\n",
        "        for state in open_positions:\n",
        "            v = V_s[state]\n",
        "            \n",
        "            totals = {}\n",
        "            for action in [\"N\", \"S\", \"E\", \"W\"]:\n",
        "                total = 0\n",
        "                for state_prime in range(12):\n",
        "                    total += probablitiy_map[(state_prime, -1, state, action)] * (-1 + discount_rate * V_s[state_prime])\n",
        "                totals[action] = total\n",
        "            \n",
        "            V_s[state] = round(max(totals.values()), 4)\n",
        "            delta = max(delta, abs(v - V_s[state]))\n",
        "    return V_s"
      ],
      "execution_count": 0,
      "outputs": []
    },
    {
      "metadata": {
        "id": "D0nKQ23JAUZ_",
        "colab_type": "code",
        "colab": {}
      },
      "cell_type": "code",
      "source": [
        "V_s = {i: 0 for i in range(12)}\n",
        "V_s = value_iteration(V_s)\n",
        "policy = create_greedy_policy(V_s)\n",
        "\n",
        "print(V_s)"
      ],
      "execution_count": 0,
      "outputs": []
    },
    {
      "metadata": {
        "id": "58VFYYUJApgA",
        "colab_type": "code",
        "colab": {}
      },
      "cell_type": "code",
      "source": [
        "data = []\n",
        "\n",
        "for i in range(1000):\n",
        "    clear_output(wait=True)\n",
        "    print(\"{}%\\n\".format((i + 1) / 10))\n",
        "    data.append(agent(policy))\n",
        "    \n",
        "print(\"Average steps to finish: {}\".format(sum(data)/len(data)))"
      ],
      "execution_count": 0,
      "outputs": []
    },
    {
      "metadata": {
        "id": "a9EOanozAqUa",
        "colab_type": "code",
        "colab": {}
      },
      "cell_type": "code",
      "source": [
        "agent(policy, verbose=True)"
      ],
      "execution_count": 0,
      "outputs": []
    },
    {
      "metadata": {
        "id": "-2NqOz9zAvMZ",
        "colab_type": "code",
        "colab": {
          "base_uri": "https://localhost:8080/",
          "height": 216
        },
        "outputId": "3ec0e031-bc93-4f9f-f0ad-edd6fc0a5608"
      },
      "cell_type": "code",
      "source": [
        "create_state_to_state_prime_verbose_map()"
      ],
      "execution_count": 45,
      "outputs": [
        {
          "output_type": "execute_result",
          "data": {
            "text/plain": [
              "{0: {'E': 1, 'N': 0, 'S': 4, 'W': 0},\n",
              " 1: {'E': 2, 'N': 1, 'S': 5, 'W': 0},\n",
              " 2: {'E': 3, 'N': 2, 'S': 6, 'W': 1},\n",
              " 3: {'E': 0, 'N': 0, 'S': 0, 'W': 0},\n",
              " 4: {'E': 5, 'N': 0, 'S': 8, 'W': 4},\n",
              " 5: {'E': 6, 'N': 1, 'S': 9, 'W': 4},\n",
              " 6: {'E': 7, 'N': 2, 'S': 10, 'W': 5},\n",
              " 7: {'E': 0, 'N': 0, 'S': 0, 'W': 0},\n",
              " 8: {'E': 9, 'N': 4, 'S': 8, 'W': 8},\n",
              " 9: {'E': 10, 'N': 5, 'S': 9, 'W': 8},\n",
              " 10: {'E': 11, 'N': 6, 'S': 10, 'W': 9},\n",
              " 11: {'E': 11, 'N': 7, 'S': 11, 'W': 10}}"
            ]
          },
          "metadata": {
            "tags": []
          },
          "execution_count": 45
        }
      ]
    },
    {
      "metadata": {
        "id": "gTRBL-jhAyjd",
        "colab_type": "code",
        "colab": {}
      },
      "cell_type": "code",
      "source": [
        "create_random_policy()"
      ],
      "execution_count": 0,
      "outputs": []
    },
    {
      "metadata": {
        "id": "PX3a6mF-A1yx",
        "colab_type": "code",
        "colab": {}
      },
      "cell_type": "code",
      "source": [
        "len(create_probability_map())"
      ],
      "execution_count": 0,
      "outputs": []
    }
  ]
}